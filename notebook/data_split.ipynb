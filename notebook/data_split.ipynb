{
 "cells": [
  {
   "cell_type": "code",
   "execution_count": 62,
   "metadata": {
    "collapsed": true,
    "ExecuteTime": {
     "start_time": "2024-11-24T15:27:16.453900Z",
     "end_time": "2024-11-24T15:27:16.455406Z"
    }
   },
   "outputs": [],
   "source": [
    "import pandas as pd\n",
    "from sklearn.model_selection import train_test_split"
   ]
  },
  {
   "cell_type": "code",
   "execution_count": 63,
   "outputs": [],
   "source": [
    "# Wczytanie danych\n",
    "data = pd.read_csv('../dataset/Spotify-2000.csv')"
   ],
   "metadata": {
    "collapsed": false,
    "ExecuteTime": {
     "start_time": "2024-11-24T15:27:16.458669Z",
     "end_time": "2024-11-24T15:27:16.470897Z"
    }
   }
  },
  {
   "cell_type": "code",
   "execution_count": 64,
   "outputs": [],
   "source": [
    "# Podział danych\n",
    "train_data, test_data = train_test_split(data, test_size=0.3, random_state=42)\n",
    "\n",
    "train_data.to_csv(\"../data/train_Data.csv\", index=False)\n",
    "test_data.to_csv(\"../data/test_Data.csv\", index=False)"
   ],
   "metadata": {
    "collapsed": false,
    "ExecuteTime": {
     "start_time": "2024-11-24T15:27:16.478673Z",
     "end_time": "2024-11-24T15:27:16.490205Z"
    }
   }
  },
  {
   "cell_type": "code",
   "execution_count": 65,
   "outputs": [
    {
     "name": "stdout",
     "output_type": "stream",
     "text": [
      "Informacje o zbiorze danych:\n",
      "<class 'pandas.core.frame.DataFrame'>\n",
      "RangeIndex: 1994 entries, 0 to 1993\n",
      "Data columns (total 15 columns):\n",
      " #   Column                  Non-Null Count  Dtype \n",
      "---  ------                  --------------  ----- \n",
      " 0   Index                   1994 non-null   int64 \n",
      " 1   Title                   1994 non-null   object\n",
      " 2   Artist                  1994 non-null   object\n",
      " 3   Top Genre               1994 non-null   object\n",
      " 4   Year                    1994 non-null   int64 \n",
      " 5   Beats Per Minute (BPM)  1994 non-null   int64 \n",
      " 6   Energy                  1994 non-null   int64 \n",
      " 7   Danceability            1994 non-null   int64 \n",
      " 8   Loudness (dB)           1994 non-null   int64 \n",
      " 9   Liveness                1994 non-null   int64 \n",
      " 10  Valence                 1994 non-null   int64 \n",
      " 11  Length (Duration)       1994 non-null   object\n",
      " 12  Acousticness            1994 non-null   int64 \n",
      " 13  Speechiness             1994 non-null   int64 \n",
      " 14  Popularity              1994 non-null   int64 \n",
      "dtypes: int64(11), object(4)\n",
      "memory usage: 233.8+ KB\n"
     ]
    },
    {
     "data": {
      "text/plain": "   Index                   Title             Artist            Top Genre  \\\n0      1                 Sunrise        Norah Jones      adult standards   \n1      2             Black Night        Deep Purple           album rock   \n2      3          Clint Eastwood           Gorillaz  alternative hip hop   \n3      4           The Pretender       Foo Fighters    alternative metal   \n4      5  Waitin' On A Sunny Day  Bruce Springsteen         classic rock   \n\n   Year  Beats Per Minute (BPM)  Energy  Danceability  Loudness (dB)  \\\n0  2004                     157      30            53            -14   \n1  2000                     135      79            50            -11   \n2  2001                     168      69            66             -9   \n3  2007                     173      96            43             -4   \n4  2002                     106      82            58             -5   \n\n   Liveness  Valence Length (Duration)  Acousticness  Speechiness  Popularity  \n0        11       68               201            94            3          71  \n1        17       81               207            17            7          39  \n2         7       52               341             2           17          69  \n3         3       37               269             0            4          76  \n4        10       87               256             1            3          59  ",
      "text/html": "<div>\n<style scoped>\n    .dataframe tbody tr th:only-of-type {\n        vertical-align: middle;\n    }\n\n    .dataframe tbody tr th {\n        vertical-align: top;\n    }\n\n    .dataframe thead th {\n        text-align: right;\n    }\n</style>\n<table border=\"1\" class=\"dataframe\">\n  <thead>\n    <tr style=\"text-align: right;\">\n      <th></th>\n      <th>Index</th>\n      <th>Title</th>\n      <th>Artist</th>\n      <th>Top Genre</th>\n      <th>Year</th>\n      <th>Beats Per Minute (BPM)</th>\n      <th>Energy</th>\n      <th>Danceability</th>\n      <th>Loudness (dB)</th>\n      <th>Liveness</th>\n      <th>Valence</th>\n      <th>Length (Duration)</th>\n      <th>Acousticness</th>\n      <th>Speechiness</th>\n      <th>Popularity</th>\n    </tr>\n  </thead>\n  <tbody>\n    <tr>\n      <th>0</th>\n      <td>1</td>\n      <td>Sunrise</td>\n      <td>Norah Jones</td>\n      <td>adult standards</td>\n      <td>2004</td>\n      <td>157</td>\n      <td>30</td>\n      <td>53</td>\n      <td>-14</td>\n      <td>11</td>\n      <td>68</td>\n      <td>201</td>\n      <td>94</td>\n      <td>3</td>\n      <td>71</td>\n    </tr>\n    <tr>\n      <th>1</th>\n      <td>2</td>\n      <td>Black Night</td>\n      <td>Deep Purple</td>\n      <td>album rock</td>\n      <td>2000</td>\n      <td>135</td>\n      <td>79</td>\n      <td>50</td>\n      <td>-11</td>\n      <td>17</td>\n      <td>81</td>\n      <td>207</td>\n      <td>17</td>\n      <td>7</td>\n      <td>39</td>\n    </tr>\n    <tr>\n      <th>2</th>\n      <td>3</td>\n      <td>Clint Eastwood</td>\n      <td>Gorillaz</td>\n      <td>alternative hip hop</td>\n      <td>2001</td>\n      <td>168</td>\n      <td>69</td>\n      <td>66</td>\n      <td>-9</td>\n      <td>7</td>\n      <td>52</td>\n      <td>341</td>\n      <td>2</td>\n      <td>17</td>\n      <td>69</td>\n    </tr>\n    <tr>\n      <th>3</th>\n      <td>4</td>\n      <td>The Pretender</td>\n      <td>Foo Fighters</td>\n      <td>alternative metal</td>\n      <td>2007</td>\n      <td>173</td>\n      <td>96</td>\n      <td>43</td>\n      <td>-4</td>\n      <td>3</td>\n      <td>37</td>\n      <td>269</td>\n      <td>0</td>\n      <td>4</td>\n      <td>76</td>\n    </tr>\n    <tr>\n      <th>4</th>\n      <td>5</td>\n      <td>Waitin' On A Sunny Day</td>\n      <td>Bruce Springsteen</td>\n      <td>classic rock</td>\n      <td>2002</td>\n      <td>106</td>\n      <td>82</td>\n      <td>58</td>\n      <td>-5</td>\n      <td>10</td>\n      <td>87</td>\n      <td>256</td>\n      <td>1</td>\n      <td>3</td>\n      <td>59</td>\n    </tr>\n  </tbody>\n</table>\n</div>"
     },
     "execution_count": 65,
     "metadata": {},
     "output_type": "execute_result"
    }
   ],
   "source": [
    "# Podstawowe informacje o danych\n",
    "print(\"Informacje o zbiorze danych:\")\n",
    "data.info()\n",
    "\n",
    "# Wyświetlenie pierwszych kilku wierszy\n",
    "data.head()"
   ],
   "metadata": {
    "collapsed": false,
    "ExecuteTime": {
     "start_time": "2024-11-24T15:27:16.497990Z",
     "end_time": "2024-11-24T15:27:16.500813Z"
    }
   }
  },
  {
   "cell_type": "code",
   "execution_count": 66,
   "outputs": [
    {
     "name": "stdout",
     "output_type": "stream",
     "text": [
      "Statystyki opisowe:\n"
     ]
    },
    {
     "data": {
      "text/plain": "             Index         Year  Beats Per Minute (BPM)       Energy  \\\ncount  1395.000000  1395.000000             1395.000000  1395.000000   \nmean    997.885305  1992.721147              119.462366    59.719713   \nstd     577.408696    16.274954               27.429037    22.178994   \nmin       1.000000  1956.000000               49.000000     3.000000   \n25%     507.500000  1978.500000               99.000000    42.000000   \n50%     997.000000  1993.000000              118.000000    61.000000   \n75%    1498.000000  2007.000000              135.000000    77.000000   \nmax    1994.000000  2019.000000              206.000000   100.000000   \n\n       Danceability  Loudness (dB)     Liveness      Valence  Acousticness  \\\ncount   1395.000000    1395.000000  1395.000000  1395.000000   1395.000000   \nmean      53.472401      -9.006452    19.225090    49.903226     28.953405   \nstd       15.588588       3.650332    17.040405    24.945593     29.362206   \nmin       10.000000     -27.000000     2.000000     4.000000      0.000000   \n25%       43.000000     -11.000000     9.000000    29.000000      3.000000   \n50%       53.000000      -9.000000    12.000000    48.000000     18.000000   \n75%       64.500000      -6.000000    23.000000    70.000000     50.000000   \nmax       96.000000      -2.000000    99.000000    98.000000     98.000000   \n\n       Speechiness   Popularity  \ncount  1395.000000  1395.000000  \nmean      5.094624    59.530466  \nstd       4.640560    14.211799  \nmin       2.000000    12.000000  \n25%       3.000000    49.000000  \n50%       4.000000    62.000000  \n75%       5.000000    71.000000  \nmax      55.000000   100.000000  ",
      "text/html": "<div>\n<style scoped>\n    .dataframe tbody tr th:only-of-type {\n        vertical-align: middle;\n    }\n\n    .dataframe tbody tr th {\n        vertical-align: top;\n    }\n\n    .dataframe thead th {\n        text-align: right;\n    }\n</style>\n<table border=\"1\" class=\"dataframe\">\n  <thead>\n    <tr style=\"text-align: right;\">\n      <th></th>\n      <th>Index</th>\n      <th>Year</th>\n      <th>Beats Per Minute (BPM)</th>\n      <th>Energy</th>\n      <th>Danceability</th>\n      <th>Loudness (dB)</th>\n      <th>Liveness</th>\n      <th>Valence</th>\n      <th>Acousticness</th>\n      <th>Speechiness</th>\n      <th>Popularity</th>\n    </tr>\n  </thead>\n  <tbody>\n    <tr>\n      <th>count</th>\n      <td>1395.000000</td>\n      <td>1395.000000</td>\n      <td>1395.000000</td>\n      <td>1395.000000</td>\n      <td>1395.000000</td>\n      <td>1395.000000</td>\n      <td>1395.000000</td>\n      <td>1395.000000</td>\n      <td>1395.000000</td>\n      <td>1395.000000</td>\n      <td>1395.000000</td>\n    </tr>\n    <tr>\n      <th>mean</th>\n      <td>997.885305</td>\n      <td>1992.721147</td>\n      <td>119.462366</td>\n      <td>59.719713</td>\n      <td>53.472401</td>\n      <td>-9.006452</td>\n      <td>19.225090</td>\n      <td>49.903226</td>\n      <td>28.953405</td>\n      <td>5.094624</td>\n      <td>59.530466</td>\n    </tr>\n    <tr>\n      <th>std</th>\n      <td>577.408696</td>\n      <td>16.274954</td>\n      <td>27.429037</td>\n      <td>22.178994</td>\n      <td>15.588588</td>\n      <td>3.650332</td>\n      <td>17.040405</td>\n      <td>24.945593</td>\n      <td>29.362206</td>\n      <td>4.640560</td>\n      <td>14.211799</td>\n    </tr>\n    <tr>\n      <th>min</th>\n      <td>1.000000</td>\n      <td>1956.000000</td>\n      <td>49.000000</td>\n      <td>3.000000</td>\n      <td>10.000000</td>\n      <td>-27.000000</td>\n      <td>2.000000</td>\n      <td>4.000000</td>\n      <td>0.000000</td>\n      <td>2.000000</td>\n      <td>12.000000</td>\n    </tr>\n    <tr>\n      <th>25%</th>\n      <td>507.500000</td>\n      <td>1978.500000</td>\n      <td>99.000000</td>\n      <td>42.000000</td>\n      <td>43.000000</td>\n      <td>-11.000000</td>\n      <td>9.000000</td>\n      <td>29.000000</td>\n      <td>3.000000</td>\n      <td>3.000000</td>\n      <td>49.000000</td>\n    </tr>\n    <tr>\n      <th>50%</th>\n      <td>997.000000</td>\n      <td>1993.000000</td>\n      <td>118.000000</td>\n      <td>61.000000</td>\n      <td>53.000000</td>\n      <td>-9.000000</td>\n      <td>12.000000</td>\n      <td>48.000000</td>\n      <td>18.000000</td>\n      <td>4.000000</td>\n      <td>62.000000</td>\n    </tr>\n    <tr>\n      <th>75%</th>\n      <td>1498.000000</td>\n      <td>2007.000000</td>\n      <td>135.000000</td>\n      <td>77.000000</td>\n      <td>64.500000</td>\n      <td>-6.000000</td>\n      <td>23.000000</td>\n      <td>70.000000</td>\n      <td>50.000000</td>\n      <td>5.000000</td>\n      <td>71.000000</td>\n    </tr>\n    <tr>\n      <th>max</th>\n      <td>1994.000000</td>\n      <td>2019.000000</td>\n      <td>206.000000</td>\n      <td>100.000000</td>\n      <td>96.000000</td>\n      <td>-2.000000</td>\n      <td>99.000000</td>\n      <td>98.000000</td>\n      <td>98.000000</td>\n      <td>55.000000</td>\n      <td>100.000000</td>\n    </tr>\n  </tbody>\n</table>\n</div>"
     },
     "execution_count": 66,
     "metadata": {},
     "output_type": "execute_result"
    }
   ],
   "source": [
    "# Statystyki opisowe na danych treningowych\n",
    "print(\"Statystyki opisowe:\")\n",
    "train_data.describe()"
   ],
   "metadata": {
    "collapsed": false,
    "ExecuteTime": {
     "start_time": "2024-11-24T15:27:16.504730Z",
     "end_time": "2024-11-24T15:27:16.515042Z"
    }
   }
  },
  {
   "cell_type": "code",
   "execution_count": 67,
   "outputs": [
    {
     "name": "stdout",
     "output_type": "stream",
     "text": [
      "Statystyki opisowe:\n"
     ]
    },
    {
     "data": {
      "text/plain": "             Index         Year  Beats Per Minute (BPM)      Energy  \\\ncount   599.000000   599.000000              599.000000  599.000000   \nmean    996.602671  1993.626043              121.969950   59.585977   \nstd     572.390217    15.734962               29.324487   22.114982   \nmin       3.000000  1958.000000               37.000000    5.000000   \n25%     482.500000  1982.000000              100.000000   42.500000   \n50%     999.000000  1994.000000              121.000000   60.000000   \n75%    1488.500000  2008.000000              139.000000   79.000000   \nmax    1993.000000  2019.000000              198.000000   99.000000   \n\n       Danceability  Loudness (dB)    Liveness     Valence  Acousticness  \\\ncount    599.000000     599.000000  599.000000  599.000000    599.000000   \nmean      52.692821      -9.013356   18.515860   48.257095     28.636060   \nstd       14.783017       3.645195   15.977492   24.635755     28.202406   \nmin       14.000000     -22.000000    3.000000    3.000000      0.000000   \n25%       42.000000     -11.000000    9.000000   28.000000      4.000000   \n50%       53.000000      -8.000000   12.000000   46.000000     18.000000   \n75%       63.000000      -6.000000   22.000000   67.500000     50.000000   \nmax       95.000000      -2.000000   99.000000   99.000000     99.000000   \n\n       Speechiness  Popularity  \ncount   599.000000  599.000000  \nmean      4.762938   59.517529  \nstd       3.780415   14.684051  \nmin       2.000000   11.000000  \n25%       3.000000   50.000000  \n50%       4.000000   61.000000  \n75%       5.000000   70.000000  \nmax      39.000000   98.000000  ",
      "text/html": "<div>\n<style scoped>\n    .dataframe tbody tr th:only-of-type {\n        vertical-align: middle;\n    }\n\n    .dataframe tbody tr th {\n        vertical-align: top;\n    }\n\n    .dataframe thead th {\n        text-align: right;\n    }\n</style>\n<table border=\"1\" class=\"dataframe\">\n  <thead>\n    <tr style=\"text-align: right;\">\n      <th></th>\n      <th>Index</th>\n      <th>Year</th>\n      <th>Beats Per Minute (BPM)</th>\n      <th>Energy</th>\n      <th>Danceability</th>\n      <th>Loudness (dB)</th>\n      <th>Liveness</th>\n      <th>Valence</th>\n      <th>Acousticness</th>\n      <th>Speechiness</th>\n      <th>Popularity</th>\n    </tr>\n  </thead>\n  <tbody>\n    <tr>\n      <th>count</th>\n      <td>599.000000</td>\n      <td>599.000000</td>\n      <td>599.000000</td>\n      <td>599.000000</td>\n      <td>599.000000</td>\n      <td>599.000000</td>\n      <td>599.000000</td>\n      <td>599.000000</td>\n      <td>599.000000</td>\n      <td>599.000000</td>\n      <td>599.000000</td>\n    </tr>\n    <tr>\n      <th>mean</th>\n      <td>996.602671</td>\n      <td>1993.626043</td>\n      <td>121.969950</td>\n      <td>59.585977</td>\n      <td>52.692821</td>\n      <td>-9.013356</td>\n      <td>18.515860</td>\n      <td>48.257095</td>\n      <td>28.636060</td>\n      <td>4.762938</td>\n      <td>59.517529</td>\n    </tr>\n    <tr>\n      <th>std</th>\n      <td>572.390217</td>\n      <td>15.734962</td>\n      <td>29.324487</td>\n      <td>22.114982</td>\n      <td>14.783017</td>\n      <td>3.645195</td>\n      <td>15.977492</td>\n      <td>24.635755</td>\n      <td>28.202406</td>\n      <td>3.780415</td>\n      <td>14.684051</td>\n    </tr>\n    <tr>\n      <th>min</th>\n      <td>3.000000</td>\n      <td>1958.000000</td>\n      <td>37.000000</td>\n      <td>5.000000</td>\n      <td>14.000000</td>\n      <td>-22.000000</td>\n      <td>3.000000</td>\n      <td>3.000000</td>\n      <td>0.000000</td>\n      <td>2.000000</td>\n      <td>11.000000</td>\n    </tr>\n    <tr>\n      <th>25%</th>\n      <td>482.500000</td>\n      <td>1982.000000</td>\n      <td>100.000000</td>\n      <td>42.500000</td>\n      <td>42.000000</td>\n      <td>-11.000000</td>\n      <td>9.000000</td>\n      <td>28.000000</td>\n      <td>4.000000</td>\n      <td>3.000000</td>\n      <td>50.000000</td>\n    </tr>\n    <tr>\n      <th>50%</th>\n      <td>999.000000</td>\n      <td>1994.000000</td>\n      <td>121.000000</td>\n      <td>60.000000</td>\n      <td>53.000000</td>\n      <td>-8.000000</td>\n      <td>12.000000</td>\n      <td>46.000000</td>\n      <td>18.000000</td>\n      <td>4.000000</td>\n      <td>61.000000</td>\n    </tr>\n    <tr>\n      <th>75%</th>\n      <td>1488.500000</td>\n      <td>2008.000000</td>\n      <td>139.000000</td>\n      <td>79.000000</td>\n      <td>63.000000</td>\n      <td>-6.000000</td>\n      <td>22.000000</td>\n      <td>67.500000</td>\n      <td>50.000000</td>\n      <td>5.000000</td>\n      <td>70.000000</td>\n    </tr>\n    <tr>\n      <th>max</th>\n      <td>1993.000000</td>\n      <td>2019.000000</td>\n      <td>198.000000</td>\n      <td>99.000000</td>\n      <td>95.000000</td>\n      <td>-2.000000</td>\n      <td>99.000000</td>\n      <td>99.000000</td>\n      <td>99.000000</td>\n      <td>39.000000</td>\n      <td>98.000000</td>\n    </tr>\n  </tbody>\n</table>\n</div>"
     },
     "execution_count": 67,
     "metadata": {},
     "output_type": "execute_result"
    }
   ],
   "source": [
    "# Statystyki opisowe na danych testowych\n",
    "print(\"Statystyki opisowe:\")\n",
    "test_data.describe()"
   ],
   "metadata": {
    "collapsed": false,
    "ExecuteTime": {
     "start_time": "2024-11-24T15:27:16.518385Z",
     "end_time": "2024-11-24T15:27:16.547140Z"
    }
   }
  }
 ],
 "metadata": {
  "kernelspec": {
   "display_name": "Python 3",
   "language": "python",
   "name": "python3"
  },
  "language_info": {
   "codemirror_mode": {
    "name": "ipython",
    "version": 2
   },
   "file_extension": ".py",
   "mimetype": "text/x-python",
   "name": "python",
   "nbconvert_exporter": "python",
   "pygments_lexer": "ipython2",
   "version": "2.7.6"
  }
 },
 "nbformat": 4,
 "nbformat_minor": 0
}
